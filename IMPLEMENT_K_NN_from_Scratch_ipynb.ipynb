{
  "nbformat": 4,
  "nbformat_minor": 0,
  "metadata": {
    "colab": {
      "name": "IMPLEMENT K-NN from Scratch ipynb",
      "provenance": [],
      "collapsed_sections": [],
      "authorship_tag": "ABX9TyNrQfhcmHy3dmQTn5O3JVRW",
      "include_colab_link": true
    },
    "kernelspec": {
      "name": "python3",
      "display_name": "Python 3"
    },
    "language_info": {
      "name": "python"
    }
  },
  "cells": [
    {
      "cell_type": "markdown",
      "metadata": {
        "id": "view-in-github",
        "colab_type": "text"
      },
      "source": [
        "<a href=\"https://colab.research.google.com/github/REBEISamy/hello-galaxy/blob/main/IMPLEMENT_K_NN_from_Scratch_ipynb.ipynb\" target=\"_parent\"><img src=\"https://colab.research.google.com/assets/colab-badge.svg\" alt=\"Open In Colab\"/></a>"
      ]
    },
    {
      "cell_type": "code",
      "metadata": {
        "id": "m8FsMZqBn3gE"
      },
      "source": [
        "import pandas as pd\n",
        "import numpy as np\n",
        "import csv\n",
        "import matplotlib.pyplot as plt\n",
        "import math\n",
        "import operator\n",
        "import random"
      ],
      "execution_count": null,
      "outputs": []
    },
    {
      "cell_type": "code",
      "metadata": {
        "colab": {
          "base_uri": "https://localhost:8080/"
        },
        "id": "iRv7Sk5KoEFu",
        "outputId": "4566c4f2-2274-4d0d-d7e8-926472b78672"
      },
      "source": [
        "ifile  = open('iris.data.txt', \"r\")\n",
        "read = csv.reader(ifile)\n",
        "for row in read :\n",
        "    print (row)"
      ],
      "execution_count": null,
      "outputs": [
        {
          "output_type": "stream",
          "name": "stdout",
          "text": [
            "['5.1', '3.5', '1.4', '0.2', 'Iris-setosa']\n",
            "['4.9', '3.0', '1.4', '0.2', 'Iris-setosa']\n",
            "['4.7', '3.2', '1.3', '0.2', 'Iris-setosa']\n",
            "['4.6', '3.1', '1.5', '0.2', 'Iris-setosa']\n",
            "['5.0', '3.6', '1.4', '0.2', 'Iris-setosa']\n",
            "['5.4', '3.9', '1.7', '0.4', 'Iris-setosa']\n",
            "['4.6', '3.4', '1.4', '0.3', 'Iris-setosa']\n",
            "['5.0', '3.4', '1.5', '0.2', 'Iris-setosa']\n",
            "['4.4', '2.9', '1.4', '0.2', 'Iris-setosa']\n",
            "['4.9', '3.1', '1.5', '0.1', 'Iris-setosa']\n",
            "['5.4', '3.7', '1.5', '0.2', 'Iris-setosa']\n",
            "['4.8', '3.4', '1.6', '0.2', 'Iris-setosa']\n",
            "['4.8', '3.0', '1.4', '0.1', 'Iris-setosa']\n",
            "['4.3', '3.0', '1.1', '0.1', 'Iris-setosa']\n",
            "['5.8', '4.0', '1.2', '0.2', 'Iris-setosa']\n",
            "['5.7', '4.4', '1.5', '0.4', 'Iris-setosa']\n",
            "['5.4', '3.9', '1.3', '0.4', 'Iris-setosa']\n",
            "['5.1', '3.5', '1.4', '0.3', 'Iris-setosa']\n",
            "['5.7', '3.8', '1.7', '0.3', 'Iris-setosa']\n",
            "['5.1', '3.8', '1.5', '0.3', 'Iris-setosa']\n",
            "['5.4', '3.4', '1.7', '0.2', 'Iris-setosa']\n",
            "['5.1', '3.7', '1.5', '0.4', 'Iris-setosa']\n",
            "['4.6', '3.6', '1.0', '0.2', 'Iris-setosa']\n",
            "['5.1', '3.3', '1.7', '0.5', 'Iris-setosa']\n",
            "['4.8', '3.4', '1.9', '0.2', 'Iris-setosa']\n",
            "['5.0', '3.0', '1.6', '0.2', 'Iris-setosa']\n",
            "['5.0', '3.4', '1.6', '0.4', 'Iris-setosa']\n",
            "['5.2', '3.5', '1.5', '0.2', 'Iris-setosa']\n",
            "['5.2', '3.4', '1.4', '0.2', 'Iris-setosa']\n",
            "['4.7', '3.2', '1.6', '0.2', 'Iris-setosa']\n",
            "['4.8', '3.1', '1.6', '0.2', 'Iris-setosa']\n",
            "['5.4', '3.4', '1.5', '0.4', 'Iris-setosa']\n",
            "['5.2', '4.1', '1.5', '0.1', 'Iris-setosa']\n",
            "['5.5', '4.2', '1.4', '0.2', 'Iris-setosa']\n",
            "['4.9', '3.1', '1.5', '0.1', 'Iris-setosa']\n",
            "['5.0', '3.2', '1.2', '0.2', 'Iris-setosa']\n",
            "['5.5', '3.5', '1.3', '0.2', 'Iris-setosa']\n",
            "['4.9', '3.1', '1.5', '0.1', 'Iris-setosa']\n",
            "['4.4', '3.0', '1.3', '0.2', 'Iris-setosa']\n",
            "['5.1', '3.4', '1.5', '0.2', 'Iris-setosa']\n",
            "['5.0', '3.5', '1.3', '0.3', 'Iris-setosa']\n",
            "['4.5', '2.3', '1.3', '0.3', 'Iris-setosa']\n",
            "['4.4', '3.2', '1.3', '0.2', 'Iris-setosa']\n",
            "['5.0', '3.5', '1.6', '0.6', 'Iris-setosa']\n",
            "['5.1', '3.8', '1.9', '0.4', 'Iris-setosa']\n",
            "['4.8', '3.0', '1.4', '0.3', 'Iris-setosa']\n",
            "['5.1', '3.8', '1.6', '0.2', 'Iris-setosa']\n",
            "['4.6', '3.2', '1.4', '0.2', 'Iris-setosa']\n",
            "['5.3', '3.7', '1.5', '0.2', 'Iris-setosa']\n",
            "['5.0', '3.3', '1.4', '0.2', 'Iris-setosa']\n",
            "['7.0', '3.2', '4.7', '1.4', 'Iris-versicolor']\n",
            "['6.4', '3.2', '4.5', '1.5', 'Iris-versicolor']\n",
            "['6.9', '3.1', '4.9', '1.5', 'Iris-versicolor']\n",
            "['5.5', '2.3', '4.0', '1.3', 'Iris-versicolor']\n",
            "['6.5', '2.8', '4.6', '1.5', 'Iris-versicolor']\n",
            "['5.7', '2.8', '4.5', '1.3', 'Iris-versicolor']\n",
            "['6.3', '3.3', '4.7', '1.6', 'Iris-versicolor']\n",
            "['4.9', '2.4', '3.3', '1.0', 'Iris-versicolor']\n",
            "['6.6', '2.9', '4.6', '1.3', 'Iris-versicolor']\n",
            "['5.2', '2.7', '3.9', '1.4', 'Iris-versicolor']\n",
            "['5.0', '2.0', '3.5', '1.0', 'Iris-versicolor']\n",
            "['5.9', '3.0', '4.2', '1.5', 'Iris-versicolor']\n",
            "['6.0', '2.2', '4.0', '1.0', 'Iris-versicolor']\n",
            "['6.1', '2.9', '4.7', '1.4', 'Iris-versicolor']\n",
            "['5.6', '2.9', '3.6', '1.3', 'Iris-versicolor']\n",
            "['6.7', '3.1', '4.4', '1.4', 'Iris-versicolor']\n",
            "['5.6', '3.0', '4.5', '1.5', 'Iris-versicolor']\n",
            "['5.8', '2.7', '4.1', '1.0', 'Iris-versicolor']\n",
            "['6.2', '2.2', '4.5', '1.5', 'Iris-versicolor']\n",
            "['5.6', '2.5', '3.9', '1.1', 'Iris-versicolor']\n",
            "['5.9', '3.2', '4.8', '1.8', 'Iris-versicolor']\n",
            "['6.1', '2.8', '4.0', '1.3', 'Iris-versicolor']\n",
            "['6.3', '2.5', '4.9', '1.5', 'Iris-versicolor']\n",
            "['6.1', '2.8', '4.7', '1.2', 'Iris-versicolor']\n",
            "['6.4', '2.9', '4.3', '1.3', 'Iris-versicolor']\n",
            "['6.6', '3.0', '4.4', '1.4', 'Iris-versicolor']\n",
            "['6.8', '2.8', '4.8', '1.4', 'Iris-versicolor']\n",
            "['6.7', '3.0', '5.0', '1.7', 'Iris-versicolor']\n",
            "['6.0', '2.9', '4.5', '1.5', 'Iris-versicolor']\n",
            "['5.7', '2.6', '3.5', '1.0', 'Iris-versicolor']\n",
            "['5.5', '2.4', '3.8', '1.1', 'Iris-versicolor']\n",
            "['5.5', '2.4', '3.7', '1.0', 'Iris-versicolor']\n",
            "['5.8', '2.7', '3.9', '1.2', 'Iris-versicolor']\n",
            "['6.0', '2.7', '5.1', '1.6', 'Iris-versicolor']\n",
            "['5.4', '3.0', '4.5', '1.5', 'Iris-versicolor']\n",
            "['6.0', '3.4', '4.5', '1.6', 'Iris-versicolor']\n",
            "['6.7', '3.1', '4.7', '1.5', 'Iris-versicolor']\n",
            "['6.3', '2.3', '4.4', '1.3', 'Iris-versicolor']\n",
            "['5.6', '3.0', '4.1', '1.3', 'Iris-versicolor']\n",
            "['5.5', '2.5', '4.0', '1.3', 'Iris-versicolor']\n",
            "['5.5', '2.6', '4.4', '1.2', 'Iris-versicolor']\n",
            "['6.1', '3.0', '4.6', '1.4', 'Iris-versicolor']\n",
            "['5.8', '2.6', '4.0', '1.2', 'Iris-versicolor']\n",
            "['5.0', '2.3', '3.3', '1.0', 'Iris-versicolor']\n",
            "['5.6', '2.7', '4.2', '1.3', 'Iris-versicolor']\n",
            "['5.7', '3.0', '4.2', '1.2', 'Iris-versicolor']\n",
            "['5.7', '2.9', '4.2', '1.3', 'Iris-versicolor']\n",
            "['6.2', '2.9', '4.3', '1.3', 'Iris-versicolor']\n",
            "['5.1', '2.5', '3.0', '1.1', 'Iris-versicolor']\n",
            "['5.7', '2.8', '4.1', '1.3', 'Iris-versicolor']\n",
            "['6.3', '3.3', '6.0', '2.5', 'Iris-virginica']\n",
            "['5.8', '2.7', '5.1', '1.9', 'Iris-virginica']\n",
            "['7.1', '3.0', '5.9', '2.1', 'Iris-virginica']\n",
            "['6.3', '2.9', '5.6', '1.8', 'Iris-virginica']\n",
            "['6.5', '3.0', '5.8', '2.2', 'Iris-virginica']\n",
            "['7.6', '3.0', '6.6', '2.1', 'Iris-virginica']\n",
            "['4.9', '2.5', '4.5', '1.7', 'Iris-virginica']\n",
            "['7.3', '2.9', '6.3', '1.8', 'Iris-virginica']\n",
            "['6.7', '2.5', '5.8', '1.8', 'Iris-virginica']\n",
            "['7.2', '3.6', '6.1', '2.5', 'Iris-virginica']\n",
            "['6.5', '3.2', '5.1', '2.0', 'Iris-virginica']\n",
            "['6.4', '2.7', '5.3', '1.9', 'Iris-virginica']\n",
            "['6.8', '3.0', '5.5', '2.1', 'Iris-virginica']\n",
            "['5.7', '2.5', '5.0', '2.0', 'Iris-virginica']\n",
            "['5.8', '2.8', '5.1', '2.4', 'Iris-virginica']\n",
            "['6.4', '3.2', '5.3', '2.3', 'Iris-virginica']\n",
            "['6.5', '3.0', '5.5', '1.8', 'Iris-virginica']\n",
            "['7.7', '3.8', '6.7', '2.2', 'Iris-virginica']\n",
            "['7.7', '2.6', '6.9', '2.3', 'Iris-virginica']\n",
            "['6.0', '2.2', '5.0', '1.5', 'Iris-virginica']\n",
            "['6.9', '3.2', '5.7', '2.3', 'Iris-virginica']\n",
            "['5.6', '2.8', '4.9', '2.0', 'Iris-virginica']\n",
            "['7.7', '2.8', '6.7', '2.0', 'Iris-virginica']\n",
            "['6.3', '2.7', '4.9', '1.8', 'Iris-virginica']\n",
            "['6.7', '3.3', '5.7', '2.1', 'Iris-virginica']\n",
            "['7.2', '3.2', '6.0', '1.8', 'Iris-virginica']\n",
            "['6.2', '2.8', '4.8', '1.8', 'Iris-virginica']\n",
            "['6.1', '3.0', '4.9', '1.8', 'Iris-virginica']\n",
            "['6.4', '2.8', '5.6', '2.1', 'Iris-virginica']\n",
            "['7.2', '3.0', '5.8', '1.6', 'Iris-virginica']\n",
            "['7.4', '2.8', '6.1', '1.9', 'Iris-virginica']\n",
            "['7.9', '3.8', '6.4', '2.0', 'Iris-virginica']\n",
            "['6.4', '2.8', '5.6', '2.2', 'Iris-virginica']\n",
            "['6.3', '2.8', '5.1', '1.5', 'Iris-virginica']\n",
            "['6.1', '2.6', '5.6', '1.4', 'Iris-virginica']\n",
            "['7.7', '3.0', '6.1', '2.3', 'Iris-virginica']\n",
            "['6.3', '3.4', '5.6', '2.4', 'Iris-virginica']\n",
            "['6.4', '3.1', '5.5', '1.8', 'Iris-virginica']\n",
            "['6.0', '3.0', '4.8', '1.8', 'Iris-virginica']\n",
            "['6.9', '3.1', '5.4', '2.1', 'Iris-virginica']\n",
            "['6.7', '3.1', '5.6', '2.4', 'Iris-virginica']\n",
            "['6.9', '3.1', '5.1', '2.3', 'Iris-virginica']\n",
            "['5.8', '2.7', '5.1', '1.9', 'Iris-virginica']\n",
            "['6.8', '3.2', '5.9', '2.3', 'Iris-virginica']\n",
            "['6.7', '3.3', '5.7', '2.5', 'Iris-virginica']\n",
            "['6.7', '3.0', '5.2', '2.3', 'Iris-virginica']\n",
            "['6.3', '2.5', '5.0', '1.9', 'Iris-virginica']\n",
            "['6.5', '3.0', '5.2', '2.0', 'Iris-virginica']\n",
            "['6.2', '3.4', '5.4', '2.3', 'Iris-virginica']\n",
            "['5.9', '3.0', '5.1', '1.8', 'Iris-virginica']\n"
          ]
        }
      ]
    },
    {
      "cell_type": "markdown",
      "metadata": {
        "id": "AKd1D6FGwX-_"
      },
      "source": [
        "# Split the data into training and test data by creating a function"
      ]
    },
    {
      "cell_type": "code",
      "metadata": {
        "id": "EoZaQor4v4li"
      },
      "source": [
        "def loadDataset(filename, split, trainingSet=[] , testSet=[]):\n",
        "    with open(filename, 'r') as f:\n",
        "        lines = csv.reader(f)\n",
        "        dataset = list(lines)\n",
        "        for x in range(len(dataset)):\n",
        "            for y in range(4):\n",
        "                dataset[x][y] = float(dataset[x][y])\n",
        "            if random.random() < split:\n",
        "                trainingSet.append(dataset[x])\n",
        "            else:\n",
        "                testSet.append(dataset[x])"
      ],
      "execution_count": null,
      "outputs": []
    },
    {
      "cell_type": "markdown",
      "metadata": {
        "id": "GslOMHkExNoj"
      },
      "source": [
        "#Test this function out with our iris **dataset**"
      ]
    },
    {
      "cell_type": "code",
      "metadata": {
        "colab": {
          "base_uri": "https://localhost:8080/"
        },
        "id": "pnjunqw9xDuj",
        "outputId": "0e7d80a6-9a11-4588-9541-ebab75315c8d"
      },
      "source": [
        "trainingSet=[]\n",
        "\n",
        "testSet=[]\n",
        "\n",
        "loadDataset('iris.data.txt', 0.66 ,trainingSet, testSet)\n",
        "\n",
        "print ('Train: ' + repr(len(trainingSet)))\n",
        "\n",
        "print ('Test: ' + repr(len(testSet)) )"
      ],
      "execution_count": null,
      "outputs": [
        {
          "output_type": "stream",
          "name": "stdout",
          "text": [
            "Train: 101\n",
            "Test: 49\n"
          ]
        }
      ]
    },
    {
      "cell_type": "markdown",
      "metadata": {
        "id": "mUPUAM2V28Ju"
      },
      "source": [
        "#Create Knn distance parameter with the Euclidean algorithm "
      ]
    },
    {
      "cell_type": "code",
      "metadata": {
        "id": "a_aaMrXh2FeT"
      },
      "source": [
        "def euclideanDistance(instance1, instance2, length):\n",
        "    distance = 0\n",
        "    for x in range(length):\n",
        "        distance += pow((instance1[x] - instance2[x]), 2)\n",
        "    return math.sqrt(distance)"
      ],
      "execution_count": null,
      "outputs": []
    },
    {
      "cell_type": "markdown",
      "metadata": {
        "id": "KtTwps3v7ZgZ"
      },
      "source": [
        "##Test this function out with our iris **dataset**\n",
        "Dans ce cas pour calculer la distance, nous utiliserons la distance euclidienne. Ceci est défini comme la racine carrée de la somme des différences au carré entre les deux tableaux de nombres\n",
        "\n",
        "Plus précisément, nous n'avons besoin que des 4 premiers attributs (caractéristiques) pour le calcul de la distance, car le dernier attribut est une étiquette de classe. Ainsi pour l'une des approches consiste à limiter la distance euclidienne à une longueur fixe, ignorant ainsi la dimension finale."
      ]
    },
    {
      "cell_type": "code",
      "metadata": {
        "colab": {
          "base_uri": "https://localhost:8080/"
        },
        "id": "K0A3H4sc7XOi",
        "outputId": "4868264d-a5d9-4cf1-ac9e-da518498c4f7"
      },
      "source": [
        "data1 = [2, 2, 2, 'a']\n",
        "data2 = [4, 4, 4, 'b']\n",
        "distance = euclideanDistance(data1, data2, 3)\n",
        "print ('Distance: ' + repr(distance))"
      ],
      "execution_count": null,
      "outputs": [
        {
          "output_type": "stream",
          "name": "stdout",
          "text": [
            "Distance: 3.4641016151377544\n"
          ]
        }
      ]
    },
    {
      "cell_type": "markdown",
      "metadata": {
        "id": "8xOE10r_8URJ"
      },
      "source": [
        "#Find k nearest point (getKNeighbor)"
      ]
    },
    {
      "cell_type": "markdown",
      "metadata": {
        "id": "5q15xyfS-jhE"
      },
      "source": [
        "Créons une fonction getKNeighbors qui renvoie k voisins les plus similaires de l'ensemble d'apprentissage pour une instance de test donnée"
      ]
    },
    {
      "cell_type": "code",
      "metadata": {
        "id": "fsijsZR68TGr"
      },
      "source": [
        "def getKNeighbors(trainingSet, testInstance, k):\n",
        "    distances = []\n",
        "    length = len(testInstance)-1\n",
        "    for x in range(len(trainingSet)):\n",
        "        dist = euclideanDistance(testInstance, trainingSet[x], length)\n",
        "        distances.append((trainingSet[x], dist))\n",
        "    distances.sort(key=operator.itemgetter(1))\n",
        "    neighbors = []\n",
        "    for x in range(k):\n",
        "        neighbors.append(distances[x][0])\n",
        "    return neighbors"
      ],
      "execution_count": null,
      "outputs": []
    },
    {
      "cell_type": "code",
      "metadata": {
        "colab": {
          "base_uri": "https://localhost:8080/"
        },
        "id": "U-2zT2zr_jiN",
        "outputId": "43ee7ff1-c6bc-4c58-f5e6-48d459801ca0"
      },
      "source": [
        "trainSet = [[2, 2, 2, 'a'], [4, 4, 4, 'b']]\n",
        "testInstance = [5, 5, 5]\n",
        "k = 1\n",
        "neighbors = getKNeighbors(trainSet, testInstance, 1)\n",
        "print(neighbors)"
      ],
      "execution_count": null,
      "outputs": [
        {
          "output_type": "stream",
          "name": "stdout",
          "text": [
            "[[4, 4, 4, 'b']]\n"
          ]
        }
      ]
    },
    {
      "cell_type": "markdown",
      "metadata": {
        "id": "j5cR9j1cBZ7r"
      },
      "source": [
        "#Get a reponse \n",
        "Creating a list with all the possible neighbors"
      ]
    },
    {
      "cell_type": "code",
      "metadata": {
        "id": "TU9keiFRBRzl"
      },
      "source": [
        "def getResponse(neighbors):\n",
        "    \n",
        "    classVotes = {}\n",
        "    for x in range(len(neighbors)):\n",
        "        response = neighbors[x][-1]\n",
        "        if response in classVotes:\n",
        "            classVotes[response] += 1\n",
        "        else:\n",
        "            classVotes[response] = 1\n",
        "    sortedVotes = sorted(classVotes.iteritems(), key=operator.itemgetter(1), reverse=True)\n",
        "    return sortedVotes[0][0]"
      ],
      "execution_count": null,
      "outputs": []
    },
    {
      "cell_type": "markdown",
      "metadata": {
        "id": "UDFg6gAxB8tm"
      },
      "source": [
        "#test the function getReponse "
      ]
    },
    {
      "cell_type": "markdown",
      "metadata": {
        "id": "BR4464buCnCn"
      },
      "source": [
        "#Check the accuracy"
      ]
    },
    {
      "cell_type": "code",
      "metadata": {
        "id": "qFexrMQ2CmV7"
      },
      "source": [
        "def getAccuracy(testSet, predictions):\n",
        "    correct = 0\n",
        "    for x in range(len(testSet)):\n",
        "        if testSet[x][-1] is predictions[x]:\n",
        "            correct += 1\n",
        "    return (correct/float(len(testSet))) * 100.0"
      ],
      "execution_count": null,
      "outputs": []
    },
    {
      "cell_type": "code",
      "metadata": {
        "colab": {
          "base_uri": "https://localhost:8080/"
        },
        "id": "t_Si-kqLDCyd",
        "outputId": "5d3aa336-492e-4951-9fe6-6105f20494ce"
      },
      "source": [
        "testSet = [[1,1,1,'a'], [2,2,2,'a'], [3,3,3,'b']]\n",
        "predictions = ['a', 'a', 'a']\n",
        "accuracy = getAccuracy(testSet, predictions)\n",
        "print(accuracy)"
      ],
      "execution_count": null,
      "outputs": [
        {
          "output_type": "stream",
          "name": "stdout",
          "text": [
            "66.66666666666666\n"
          ]
        }
      ]
    },
    {
      "cell_type": "markdown",
      "metadata": {
        "id": "MAVt3aoPDQss"
      },
      "source": [
        "Puisque nous avons créé tous les éléments de l'algorithme KNN, relions-les à l'aide de la fonction principale."
      ]
    },
    {
      "cell_type": "code",
      "metadata": {
        "id": "8V-9emgaDQ-O"
      },
      "source": [
        "def main():\n",
        "    trainingSet=[]\n",
        "    testSet=[]\n",
        "    split = 0.67\n",
        "    loadDataset('iris.data', split, trainingSet, testSet)\n",
        "    print ('Train: ' + repr(len(trainingSet)))\n",
        "    print ('Test: ' + repr(len(testSet)) )   \n",
        "    predictions=[]\n",
        "    k = 3\n",
        "    for x in range(len(testSet)):\n",
        "        neighbors = getNeighbors(trainingSet, testSet[x], k)\n",
        "        result = getResponse(neighbors)\n",
        "        predictions.append(result)\n",
        "        print('> predicted=' + repr(result) + ', actual=' + repr(testSet[x][-1]))\n",
        "    accuracy = getAccuracy(testSet, predictions)\n",
        "    print('Accuracy: ', accuracy)\n",
        "    main()"
      ],
      "execution_count": null,
      "outputs": []
    }
  ]
}